{
 "cells": [
  {
   "cell_type": "code",
   "execution_count": 1,
   "id": "3752abe9-2d95-46e3-a632-8c94745232d9",
   "metadata": {},
   "outputs": [],
   "source": [
    "import numpy as np\n",
    "import matplotlib.pyplot as plt\n",
    "import matplotlib as plt2\n",
    "import cv2 as cv\n",
    "nm=1e-9\n",
    "um=1e-6\n",
    "mm=1e-3"
   ]
  },
  {
   "cell_type": "code",
   "execution_count": 2,
   "id": "379bf0ec-53e6-45f4-9019-7b9b3e343216",
   "metadata": {},
   "outputs": [],
   "source": [
    "%matplotlib qt"
   ]
  },
  {
   "cell_type": "code",
   "execution_count": null,
   "id": "58ba9454-ef6f-4fc1-a098-4f2881141ea4",
   "metadata": {},
   "outputs": [
    {
     "data": {
      "text/plain": [
       "(2835, 2182)"
      ]
     },
     "execution_count": 45,
     "metadata": {},
     "output_type": "execute_result"
    }
   ],
   "source": [
    "imggala=cv.imread('gala-desnuda-mirando.jpg',0)\n",
    "plt.figure()\n",
    "plt.imshow(imggala, cmap='binary_r')\n",
    "plt.show()\n",
    "np.shape(imggala)\n"
   ]
  },
  {
   "cell_type": "code",
   "execution_count": 91,
   "id": "3e34e20d-ff46-422f-84d9-ee0bf35f24f7",
   "metadata": {},
   "outputs": [
    {
     "data": {
      "text/plain": [
       "(2835, 2182)"
      ]
     },
     "execution_count": 91,
     "metadata": {},
     "output_type": "execute_result"
    }
   ],
   "source": [
    "espgala=np.fft.fftshift(np.fft.fft2(imggala)) \n",
    "plt.figure()\n",
    "plt.imshow(np.log(np.abs(espgala)**2))\n",
    "plt.show()\n",
    "np.shape(espgala)"
   ]
  },
  {
   "cell_type": "raw",
   "id": "3257983b-c34a-4677-b67d-1712c9f8777d",
   "metadata": {},
   "source": []
  },
  {
   "cell_type": "raw",
   "id": "a81087a9-2b9b-4de3-8d37-16c2e903cfdd",
   "metadata": {},
   "source": [
    "\n"
   ]
  },
  {
   "cell_type": "code",
   "execution_count": 98,
   "id": "52f38a9d-c947-4168-8358-736ec1de1755",
   "metadata": {},
   "outputs": [],
   "source": [
    "deltax=3.18/2182\n",
    "deltay=4.2/2835\n",
    "\n"
   ]
  },
  {
   "cell_type": "code",
   "execution_count": 96,
   "id": "0dd368b3-22aa-4c5b-8b54-ce4a9377aeee",
   "metadata": {},
   "outputs": [],
   "source": [
    "\n",
    "deltafx=1/3.18\n",
    "deltafy=1/4.2\n",
    "\n",
    "maxdetx=3.18/14\n",
    "maxdety=4.2/19"
   ]
  },
  {
   "cell_type": "code",
   "execution_count": 97,
   "id": "a8f2cbc1-dcc0-42b5-8f3f-9eca7d355fc7",
   "metadata": {},
   "outputs": [],
   "source": [
    "\n",
    "\n",
    "w_length= 632*nm\n",
    "pupiler= 1*mm"
   ]
  },
  {
   "cell_type": "code",
   "execution_count": 108,
   "id": "789c2a9b-09e1-4526-8510-b3688dbcfac9",
   "metadata": {},
   "outputs": [],
   "source": [
    "def fmax(z,w,pupiler):\n",
    "    fmax=pupiler/(z*w)\n",
    "    return fmax\n"
   ]
  },
  {
   "cell_type": "code",
   "execution_count": 118,
   "id": "7e4cd2b4-15d8-4d94-90ef-7d62adcdc71b",
   "metadata": {},
   "outputs": [],
   "source": [
    "def zxf(fmax,w,pupiler):\n",
    "    z=pupiler/(fmax*w)\n",
    "    return z"
   ]
  },
  {
   "cell_type": "code",
   "execution_count": 106,
   "id": "539bce86-ca10-4b99-a6ff-2bdbe8c4284f",
   "metadata": {},
   "outputs": [],
   "source": [
    "fmax=1/maxdetx\n",
    "pix=int(fmax/deltafx)\n",
    "piy=int(fmax/deltafy)\n",
    "mascara=np.zeros((2835,2182))\n",
    "cv.ellipse(mascara,(int(2182/2), int(2835/2)),(pix,piy),0,0,360,1,-1)\n",
    "plt.figure()\n",
    "plt.imshow(mascara)\n",
    "plt.show()\n"
   ]
  },
  {
   "cell_type": "code",
   "execution_count": null,
   "id": "702c541b-4feb-43e3-a665-44f8a9073413",
   "metadata": {},
   "outputs": [],
   "source": []
  },
  {
   "cell_type": "code",
   "execution_count": 101,
   "id": "6eda798e-1853-472a-9247-58cf03b3d785",
   "metadata": {},
   "outputs": [],
   "source": [
    "newgala=mascara*espgala\n",
    "newgala1=(np.fft.ifft2(newgala))\n",
    "newgala1=newgala1/np.max(newgala1)\n",
    "plt.figure()\n",
    "plt.imshow(np.abs(newgala1)**2, cmap='binary_r')\n",
    "plt.colorbar()\n",
    "plt.show()"
   ]
  },
  {
   "cell_type": "code",
   "execution_count": 115,
   "id": "545dcda1-3f81-4c90-aeff-008e017e9a07",
   "metadata": {},
   "outputs": [],
   "source": [
    "def imggaladistance(img,z,w,pupiler,sizex,sizey):\n",
    "    espgala1=np.fft.fftshift(np.fft.fft2(img)) \n",
    "    deltafx1=1/sizex\n",
    "    deltafy1=1/sizey\n",
    "    fmax1=pupiler/(z*w)\n",
    "    pix1=int(fmax1/deltafx1)\n",
    "    piy1=int(fmax1/deltafy1)\n",
    "    mascara2=np.zeros((2835,2182))\n",
    "    cv.ellipse(mascara2,(int(2182/2), int(2835/2)),(pix1,piy1),0,0,360,1,-1)\n",
    "    newgala=mascara2*espgala1\n",
    "    newgala11=(np.fft.ifft2(newgala))\n",
    "    newgala11=newgala11/np.max(newgala11)\n",
    "    return newgala11\n"
   ]
  },
  {
   "cell_type": "code",
   "execution_count": 117,
   "id": "af460ac5-d6cb-42f0-845b-8e1c1860476c",
   "metadata": {},
   "outputs": [],
   "source": [
    "img2=imggaladistance(imggala,356,w_length,pupiler,3.18,4.2)\n",
    "plt.figure()\n",
    "plt.imshow(np.abs(img2)**2, cmap='binary_r')\n",
    "plt.colorbar()\n",
    "plt.show()\n"
   ]
  },
  {
   "cell_type": "code",
   "execution_count": 125,
   "id": "089135c7-d946-4328-8d32-fb51b41bb98f",
   "metadata": {},
   "outputs": [
    {
     "data": {
      "text/plain": [
       "664.5569620253164"
      ]
     },
     "execution_count": 125,
     "metadata": {},
     "output_type": "execute_result"
    }
   ],
   "source": [
    "f1=deltafy*10\n",
    "z1=zxf(f1,w_length,pupiler)\n",
    "\n",
    "z1"
   ]
  },
  {
   "cell_type": "code",
   "execution_count": 126,
   "id": "29792681-48ba-4299-ab5b-3e4ececbe7ba",
   "metadata": {},
   "outputs": [],
   "source": [
    "img2=imggaladistance(imggala,z1,w_length,pupiler,3.18,4.2)\n",
    "plt.figure()\n",
    "plt.imshow(np.abs(img2)**2, cmap='binary_r')\n",
    "plt.colorbar()\n",
    "plt.show()"
   ]
  },
  {
   "cell_type": "code",
   "execution_count": 131,
   "id": "6504042e-25a3-4254-bdb9-074a7b4f69ee",
   "metadata": {},
   "outputs": [],
   "source": [
    "img2=imggaladistance(imggala,200,w_length,pupiler,3.18,4.2)\n",
    "plt.figure()\n",
    "plt.imshow(np.abs(img2)**2, cmap='binary_r')\n",
    "plt.colorbar()\n",
    "plt.show()"
   ]
  },
  {
   "cell_type": "code",
   "execution_count": 132,
   "id": "6a95ea28-00a8-4abf-a28e-6d7fa6372cf7",
   "metadata": {},
   "outputs": [],
   "source": [
    "img2=imggaladistance(imggala,100,w_length,pupiler,3.18,4.2)\n",
    "plt.figure()\n",
    "plt.imshow(np.abs(img2)**2, cmap='binary_r')\n",
    "plt.colorbar()\n",
    "plt.show()"
   ]
  },
  {
   "cell_type": "code",
   "execution_count": 133,
   "id": "977fee30-686f-4cd1-ad81-3ed66dbd96eb",
   "metadata": {},
   "outputs": [],
   "source": [
    "img2=imggaladistance(imggala,50,w_length,pupiler,3.18,4.2)\n",
    "plt.figure()\n",
    "plt.imshow(np.abs(img2)**2, cmap='binary_r')\n",
    "plt.colorbar()\n",
    "plt.show()"
   ]
  },
  {
   "cell_type": "code",
   "execution_count": 134,
   "id": "492c1d09-1cd4-408c-b6c9-90df461eaa9a",
   "metadata": {},
   "outputs": [],
   "source": [
    "img2=imggaladistance(imggala,4,w_length,pupiler,3.18,4.2)\n",
    "plt.figure()\n",
    "plt.imshow(np.abs(img2)**2, cmap='binary_r')\n",
    "plt.colorbar()\n",
    "plt.show()"
   ]
  },
  {
   "cell_type": "code",
   "execution_count": null,
   "id": "9956a2b5-29cf-4f2a-8d80-10fdef0cdb10",
   "metadata": {},
   "outputs": [],
   "source": []
  }
 ],
 "metadata": {
  "kernelspec": {
   "display_name": "Python 3 (ipykernel)",
   "language": "python",
   "name": "python3"
  },
  "language_info": {
   "codemirror_mode": {
    "name": "ipython",
    "version": 3
   },
   "file_extension": ".py",
   "mimetype": "text/x-python",
   "name": "python",
   "nbconvert_exporter": "python",
   "pygments_lexer": "ipython3",
   "version": "3.10.0"
  }
 },
 "nbformat": 4,
 "nbformat_minor": 5
}
